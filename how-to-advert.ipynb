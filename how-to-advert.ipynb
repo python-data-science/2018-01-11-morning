{
 "cells": [
  {
   "cell_type": "code",
   "execution_count": 1,
   "metadata": {
    "collapsed": true
   },
   "outputs": [],
   "source": [
    "import pandas as pd\n",
    "import numpy as np\n",
    "import matplotlib.pyplot as plt\n",
    "#import statsmodels.api as sm\n",
    "from pandas.plotting import scatter_matrix\n",
    "from sklearn import linear_model\n",
    "from sklearn.model_selection import train_test_split\n",
    "\n",
    "%matplotlib inline"
   ]
  },
  {
   "cell_type": "code",
   "execution_count": 2,
   "metadata": {},
   "outputs": [
    {
     "data": {
      "text/html": [
       "<div>\n",
       "<style>\n",
       "    .dataframe thead tr:only-child th {\n",
       "        text-align: right;\n",
       "    }\n",
       "\n",
       "    .dataframe thead th {\n",
       "        text-align: left;\n",
       "    }\n",
       "\n",
       "    .dataframe tbody tr th {\n",
       "        vertical-align: top;\n",
       "    }\n",
       "</style>\n",
       "<table border=\"1\" class=\"dataframe\">\n",
       "  <thead>\n",
       "    <tr style=\"text-align: right;\">\n",
       "      <th></th>\n",
       "      <th>TV</th>\n",
       "      <th>radio</th>\n",
       "      <th>newspaper</th>\n",
       "      <th>sales</th>\n",
       "    </tr>\n",
       "  </thead>\n",
       "  <tbody>\n",
       "    <tr>\n",
       "      <th>1</th>\n",
       "      <td>230.1</td>\n",
       "      <td>37.8</td>\n",
       "      <td>69.2</td>\n",
       "      <td>22.1</td>\n",
       "    </tr>\n",
       "    <tr>\n",
       "      <th>2</th>\n",
       "      <td>44.5</td>\n",
       "      <td>39.3</td>\n",
       "      <td>45.1</td>\n",
       "      <td>10.4</td>\n",
       "    </tr>\n",
       "    <tr>\n",
       "      <th>3</th>\n",
       "      <td>17.2</td>\n",
       "      <td>45.9</td>\n",
       "      <td>69.3</td>\n",
       "      <td>9.3</td>\n",
       "    </tr>\n",
       "    <tr>\n",
       "      <th>4</th>\n",
       "      <td>151.5</td>\n",
       "      <td>41.3</td>\n",
       "      <td>58.5</td>\n",
       "      <td>18.5</td>\n",
       "    </tr>\n",
       "    <tr>\n",
       "      <th>5</th>\n",
       "      <td>180.8</td>\n",
       "      <td>10.8</td>\n",
       "      <td>58.4</td>\n",
       "      <td>12.9</td>\n",
       "    </tr>\n",
       "  </tbody>\n",
       "</table>\n",
       "</div>"
      ],
      "text/plain": [
       "      TV  radio  newspaper  sales\n",
       "1  230.1   37.8       69.2   22.1\n",
       "2   44.5   39.3       45.1   10.4\n",
       "3   17.2   45.9       69.3    9.3\n",
       "4  151.5   41.3       58.5   18.5\n",
       "5  180.8   10.8       58.4   12.9"
      ]
     },
     "execution_count": 2,
     "metadata": {},
     "output_type": "execute_result"
    }
   ],
   "source": [
    "df = pd.read_csv('Advertising.csv', index_col=0)\n",
    "df.head()"
   ]
  },
  {
   "cell_type": "code",
   "execution_count": 12,
   "metadata": {
    "collapsed": true
   },
   "outputs": [],
   "source": [
    "from itertools import combinations"
   ]
  },
  {
   "cell_type": "code",
   "execution_count": 13,
   "metadata": {},
   "outputs": [
    {
     "data": {
      "text/html": [
       "<div>\n",
       "<style>\n",
       "    .dataframe thead tr:only-child th {\n",
       "        text-align: right;\n",
       "    }\n",
       "\n",
       "    .dataframe thead th {\n",
       "        text-align: left;\n",
       "    }\n",
       "\n",
       "    .dataframe tbody tr th {\n",
       "        vertical-align: top;\n",
       "    }\n",
       "</style>\n",
       "<table border=\"1\" class=\"dataframe\">\n",
       "  <thead>\n",
       "    <tr style=\"text-align: right;\">\n",
       "      <th></th>\n",
       "      <th>Coef</th>\n",
       "      <th>Columns</th>\n",
       "      <th>Int</th>\n",
       "      <th>Score</th>\n",
       "    </tr>\n",
       "  </thead>\n",
       "  <tbody>\n",
       "    <tr>\n",
       "      <th>0</th>\n",
       "      <td>[0.0482245128152]</td>\n",
       "      <td>TV</td>\n",
       "      <td>7.066583</td>\n",
       "      <td>0.623689</td>\n",
       "    </tr>\n",
       "    <tr>\n",
       "      <th>1</th>\n",
       "      <td>[0.223774515044]</td>\n",
       "      <td>radio</td>\n",
       "      <td>9.290417</td>\n",
       "      <td>0.081757</td>\n",
       "    </tr>\n",
       "    <tr>\n",
       "      <th>2</th>\n",
       "      <td>[0.0658344742479]</td>\n",
       "      <td>newspaper</td>\n",
       "      <td>12.602571</td>\n",
       "      <td>-0.111407</td>\n",
       "    </tr>\n",
       "    <tr>\n",
       "      <th>3</th>\n",
       "      <td>[0.0447396196487, 0.199355464099]</td>\n",
       "      <td>TV, radio</td>\n",
       "      <td>2.867355</td>\n",
       "      <td>0.859348</td>\n",
       "    </tr>\n",
       "    <tr>\n",
       "      <th>4</th>\n",
       "      <td>[0.0472036046549, 0.0507723040181]</td>\n",
       "      <td>TV, newspaper</td>\n",
       "      <td>5.673310</td>\n",
       "      <td>0.643582</td>\n",
       "    </tr>\n",
       "  </tbody>\n",
       "</table>\n",
       "</div>"
      ],
      "text/plain": [
       "                                 Coef        Columns        Int     Score\n",
       "0                   [0.0482245128152]             TV   7.066583  0.623689\n",
       "1                    [0.223774515044]          radio   9.290417  0.081757\n",
       "2                   [0.0658344742479]      newspaper  12.602571 -0.111407\n",
       "3   [0.0447396196487, 0.199355464099]      TV, radio   2.867355  0.859348\n",
       "4  [0.0472036046549, 0.0507723040181]  TV, newspaper   5.673310  0.643582"
      ]
     },
     "execution_count": 13,
     "metadata": {},
     "output_type": "execute_result"
    }
   ],
   "source": [
    "rows = []\n",
    "for i in range(1,4):\n",
    "    combos = list(combinations(['TV', 'radio', 'newspaper'],i))\n",
    "    for j,com in enumerate(combos):\n",
    "        y = df.sales\n",
    "        X = pd.DataFrame(df, columns=com)\n",
    "        X_train, X_test, y_train, y_test = train_test_split(X, y, test_size=0.33, random_state=42)\n",
    "        model = linear_model.LinearRegression(fit_intercept=True).fit(X_train, y_train)\n",
    "        score = model.score(X_test, y_test)\n",
    "        s = ', '.join(com)\n",
    "        rows.append({'Score':score, 'Columns':s, 'Coef':model.coef_,'Int':model.intercept_})\n",
    "        # print('score:', score, 'columns:', s)\n",
    "df1 = pd.DataFrame(rows)\n",
    "df1.head()"
   ]
  },
  {
   "cell_type": "code",
   "execution_count": 17,
   "metadata": {},
   "outputs": [
    {
     "data": {
      "text/plain": [
       "Int      12.602571\n",
       "Score     0.859348\n",
       "dtype: float64"
      ]
     },
     "execution_count": 17,
     "metadata": {},
     "output_type": "execute_result"
    }
   ],
   "source": [
    "df1.max(0,5)"
   ]
  },
  {
   "cell_type": "code",
   "execution_count": 19,
   "metadata": {},
   "outputs": [
    {
     "data": {
      "text/html": [
       "<div>\n",
       "<style>\n",
       "    .dataframe thead tr:only-child th {\n",
       "        text-align: right;\n",
       "    }\n",
       "\n",
       "    .dataframe thead th {\n",
       "        text-align: left;\n",
       "    }\n",
       "\n",
       "    .dataframe tbody tr th {\n",
       "        vertical-align: top;\n",
       "    }\n",
       "</style>\n",
       "<table border=\"1\" class=\"dataframe\">\n",
       "  <thead>\n",
       "    <tr style=\"text-align: right;\">\n",
       "      <th></th>\n",
       "      <th>Coef</th>\n",
       "      <th>Columns</th>\n",
       "      <th>Int</th>\n",
       "      <th>Score</th>\n",
       "    </tr>\n",
       "  </thead>\n",
       "  <tbody>\n",
       "    <tr>\n",
       "      <th>0</th>\n",
       "      <td>[0.0482245128152]</td>\n",
       "      <td>TV</td>\n",
       "      <td>7.066583</td>\n",
       "      <td>0.623689</td>\n",
       "    </tr>\n",
       "    <tr>\n",
       "      <th>1</th>\n",
       "      <td>[0.223774515044]</td>\n",
       "      <td>radio</td>\n",
       "      <td>9.290417</td>\n",
       "      <td>0.081757</td>\n",
       "    </tr>\n",
       "    <tr>\n",
       "      <th>2</th>\n",
       "      <td>[0.0658344742479]</td>\n",
       "      <td>newspaper</td>\n",
       "      <td>12.602571</td>\n",
       "      <td>-0.111407</td>\n",
       "    </tr>\n",
       "    <tr>\n",
       "      <th>3</th>\n",
       "      <td>[0.0447396196487, 0.199355464099]</td>\n",
       "      <td>TV, radio</td>\n",
       "      <td>2.867355</td>\n",
       "      <td>0.859348</td>\n",
       "    </tr>\n",
       "    <tr>\n",
       "      <th>4</th>\n",
       "      <td>[0.0472036046549, 0.0507723040181]</td>\n",
       "      <td>TV, newspaper</td>\n",
       "      <td>5.673310</td>\n",
       "      <td>0.643582</td>\n",
       "    </tr>\n",
       "    <tr>\n",
       "      <th>5</th>\n",
       "      <td>[0.216625857637, 0.0156987409941]</td>\n",
       "      <td>radio, newspaper</td>\n",
       "      <td>8.980343</td>\n",
       "      <td>0.071047</td>\n",
       "    </tr>\n",
       "    <tr>\n",
       "      <th>6</th>\n",
       "      <td>[0.0446651206327, 0.196630062826, 0.0060743865...</td>\n",
       "      <td>TV, radio, newspaper</td>\n",
       "      <td>2.758072</td>\n",
       "      <td>0.855557</td>\n",
       "    </tr>\n",
       "  </tbody>\n",
       "</table>\n",
       "</div>"
      ],
      "text/plain": [
       "                                                Coef               Columns  \\\n",
       "0                                  [0.0482245128152]                    TV   \n",
       "1                                   [0.223774515044]                 radio   \n",
       "2                                  [0.0658344742479]             newspaper   \n",
       "3                  [0.0447396196487, 0.199355464099]             TV, radio   \n",
       "4                 [0.0472036046549, 0.0507723040181]         TV, newspaper   \n",
       "5                  [0.216625857637, 0.0156987409941]      radio, newspaper   \n",
       "6  [0.0446651206327, 0.196630062826, 0.0060743865...  TV, radio, newspaper   \n",
       "\n",
       "         Int     Score  \n",
       "0   7.066583  0.623689  \n",
       "1   9.290417  0.081757  \n",
       "2  12.602571 -0.111407  \n",
       "3   2.867355  0.859348  \n",
       "4   5.673310  0.643582  \n",
       "5   8.980343  0.071047  \n",
       "6   2.758072  0.855557  "
      ]
     },
     "execution_count": 19,
     "metadata": {},
     "output_type": "execute_result"
    }
   ],
   "source": [
    "df1"
   ]
  },
  {
   "cell_type": "code",
   "execution_count": 20,
   "metadata": {},
   "outputs": [
    {
     "data": {
      "text/plain": [
       "'\\nThe best R2 is 0.859348\\n\\nThe formula is = 2.867355 + (.0447*TV)+(0.994*Radio)\\n\\n'"
      ]
     },
     "execution_count": 20,
     "metadata": {},
     "output_type": "execute_result"
    }
   ],
   "source": [
    "\"\"\"\n",
    "The best R2 is 0.859348\n",
    "\n",
    "The formula is = 2.867355 + (.0447*TV)+(0.994*Radio)\n",
    "\n",
    "\"\"\""
   ]
  },
  {
   "cell_type": "code",
   "execution_count": 25,
   "metadata": {},
   "outputs": [
    {
     "name": "stdout",
     "output_type": "stream",
     "text": [
      "The Sales would be $ 18.143455\n"
     ]
    }
   ],
   "source": [
    "\"\"\"Predict the sales for TV=199, Radio=32, Newspaper=88\"\"\"\n",
    "\n",
    "Sales = 2.867355 + (.0447*199)+(0.1994*32)\n",
    "print('The Sales would be $', Sales)"
   ]
  },
  {
   "cell_type": "code",
   "execution_count": null,
   "metadata": {
    "collapsed": true
   },
   "outputs": [],
   "source": []
  }
 ],
 "metadata": {
  "kernelspec": {
   "display_name": "Python 3",
   "language": "python",
   "name": "python3"
  },
  "language_info": {
   "codemirror_mode": {
    "name": "ipython",
    "version": 3
   },
   "file_extension": ".py",
   "mimetype": "text/x-python",
   "name": "python",
   "nbconvert_exporter": "python",
   "pygments_lexer": "ipython3",
   "version": "3.6.3"
  }
 },
 "nbformat": 4,
 "nbformat_minor": 2
}
